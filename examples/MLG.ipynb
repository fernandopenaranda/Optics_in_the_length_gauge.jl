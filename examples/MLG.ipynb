{
 "cells": [
  {
   "cell_type": "code",
   "execution_count": null,
   "metadata": {},
   "outputs": [],
   "source": [
    "# run with a julia kernel\n",
    "include(\"Optics_in_the_length_gauge.jl\")\n",
    "using CairoMakie"
   ]
  },
  {
   "cell_type": "code",
   "execution_count": 11,
   "metadata": {},
   "outputs": [],
   "source": [
    "using Arpack\n",
    "using LinearAlgebra\n",
    "using Cubature\n",
    "using ProgressMeter\n",
    "using Base.Threads\n",
    "using Distributed\n",
    "using Dierckx\n",
    "using PhysicalConstants\n",
    "using PhysicalConstants.CODATA2018\n",
    "using Unitful\n",
    "using SparseArrays\n",
    "using StaticArrays\n",
    "\n",
    "\n",
    "\n",
    "include(\"/Users/fernandopenaranda/Documents/Work/PostdocDonosti/Packages/Optics_in_the_length_gauge/src/jdos.jl\")\n",
    "include(\"/Users/fernandopenaranda/Documents/Work/PostdocDonosti/Packages/Optics_in_the_length_gauge/src/integration.jl\")"
   ]
  },
  {
   "cell_type": "markdown",
   "metadata": {},
   "source": [
    "### Bands MLG"
   ]
  },
  {
   "cell_type": "markdown",
   "metadata": {},
   "source": [
    "<img src=\"MLG_bands.jpg\" alt=\"Alt text\" width=\"400\"/>"
   ]
  },
  {
   "cell_type": "markdown",
   "metadata": {},
   "source": [
    "### DOS"
   ]
  },
  {
   "cell_type": "code",
   "execution_count": null,
   "metadata": {},
   "outputs": [],
   "source": [
    "xbounds =  [-2π, 2π] # adimensional\n",
    "ybounds =  [0, 2π/√3] # adimensional\n",
    "ωlist = collect(-10:0.1:10) # in eV\n",
    "broadening = 0.025 # in eV\n",
    "evals = 1e6 # number of iterations\n",
    "μ = 0 # in eV\n",
    "\n",
    "h(q) = MLG_hamiltonian(μ, q)\n",
    "ω, j = dos(ham, xbounds, ybounds, collect(-10:.1:10); η = 0.025, evals = 1000000);"
   ]
  },
  {
   "cell_type": "code",
   "execution_count": null,
   "metadata": {},
   "outputs": [],
   "source": [
    "fig = Figure(); ax = Axis(fig[1,1], xlabel = \"ω (eV)\", ylabel = \"dos (a.u.)\")\n",
    "lines!(ax, ω, j)"
   ]
  },
  {
   "cell_type": "markdown",
   "metadata": {},
   "source": [
    "<img src=\"MLG_dos.jpg\" alt=\"Alt text\" width=\"400\"/>"
   ]
  },
  {
   "cell_type": "markdown",
   "metadata": {},
   "source": [
    "Note that the broadening introduces a finite weight at $\\omega = 0$"
   ]
  },
  {
   "cell_type": "markdown",
   "metadata": {},
   "source": [
    "### JDOS"
   ]
  },
  {
   "cell_type": "code",
   "execution_count": null,
   "metadata": {},
   "outputs": [],
   "source": [
    "M = 2pi/3 # modulus of the M point\n",
    "xbounds =  [0,2M]\n",
    "ybounds =  [-1,1] .* 2π/√3\n",
    "ωlist = collect(0:0.1:10)\n",
    "broadening = 0.01 # in eV\n",
    "evals = 1e6\n",
    "ω, j = jdos(ham, xbounds, ybounds, ωlist; η = broadening, evals = evals);"
   ]
  },
  {
   "cell_type": "code",
   "execution_count": null,
   "metadata": {},
   "outputs": [],
   "source": [
    "fig = Figure(); ax = Axis(fig[1,1], xlabel = \"ω (eV)\", ylabel = \"jdos (a.u.)\")\n",
    "lines!(ax, ω, j)\n",
    "fig"
   ]
  },
  {
   "cell_type": "markdown",
   "metadata": {},
   "source": [
    "<img src=\"MLG_jdos.jpg\" alt=\"Alt text\" width=\"400\"/>"
   ]
  },
  {
   "cell_type": "markdown",
   "metadata": {},
   "source": [
    "## Linear optical conductivity"
   ]
  },
  {
   "cell_type": "code",
   "execution_count": null,
   "metadata": {},
   "outputs": [],
   "source": [
    "\n",
    "xbounds =  [-2π, 2π]\n",
    "ybounds =  [0, 2π/√3]\n",
    "ωlist = collect(0:1:10)\n",
    "broadening = 0.01 # in eV\n",
    "evals = 10\n",
    "ν = 1\n",
    "μ = 0\n",
    "dirJ = :x\n",
    "dirE = :x\n",
    "\n",
    "h(q) = MLG_hamiltonian(μ, ν, q)\n",
    "dh(q) = MLG_hamiltonian_derivatives(ν, q)\n",
    "linear_optical_conductivity(dirJ, dirE, h, dh, xbounds, ybounds, ωlist; η = broadening, evals = evals)\n",
    "\n"
   ]
  }
 ],
 "metadata": {
  "kernelspec": {
   "display_name": "Julia 1.9.3",
   "language": "julia",
   "name": "julia-1.9"
  },
  "language_info": {
   "file_extension": ".jl",
   "mimetype": "application/julia",
   "name": "julia",
   "version": "1.9.3"
  },
  "orig_nbformat": 4
 },
 "nbformat": 4,
 "nbformat_minor": 2
}
