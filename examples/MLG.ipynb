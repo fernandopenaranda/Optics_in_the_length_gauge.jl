{
 "cells": [
  {
   "cell_type": "code",
   "execution_count": null,
   "metadata": {},
   "outputs": [],
   "source": [
    "using Optics_in_the_length_gauge\n",
    "using CairoMakie # backend for plots"
   ]
  },
  {
   "cell_type": "code",
   "execution_count": null,
   "metadata": {},
   "outputs": [],
   "source": [
    "cp = Computation_presets(        # comp presets\n",
    "    xbounds = [0, 2π/√3],        # adimensional, \n",
    "    ybounds = [-2π, 2π],         # adimensional, \n",
    "    ωlist = collect(-10:0.1:10), # in eV, \n",
    "    broadening = 0.025,          # in eV\n",
    "    evals = 1e6                  # number of iterations\n",
    "    )"
   ]
  },
  {
   "cell_type": "markdown",
   "metadata": {},
   "source": [
    "Quick note: \n",
    "\n",
    "Structs in Optics_in_the_lenght_gauge uses Parameters,\n",
    "so they can be dynamically created using the following syntax.\n",
    "cp2 = Computation_presets(cp, evals = 1e5), which keeps the rest\n",
    "of fields as in cp. "
   ]
  },
  {
   "cell_type": "markdown",
   "metadata": {},
   "source": [
    "### Bands MLG"
   ]
  },
  {
   "cell_type": "markdown",
   "metadata": {},
   "source": [
    "<img src=\"MLG_bands.jpg\" alt=\"Alt text\" width=\"400\"/>"
   ]
  },
  {
   "cell_type": "markdown",
   "metadata": {},
   "source": [
    "### DOS"
   ]
  },
  {
   "cell_type": "code",
   "execution_count": null,
   "metadata": {},
   "outputs": [],
   "source": [
    "\n",
    "μ = 0\n",
    "h(q) = Presets.MLG_hamiltonian(μ, q) # system specific\n",
    "\n",
    "# DOS_presets\n",
    "dos_presets = DOS_presets(\n",
    "    h = h, \n",
    "    computation = cp            #\n",
    ")"
   ]
  },
  {
   "cell_type": "code",
   "execution_count": null,
   "metadata": {},
   "outputs": [],
   "source": [
    "# Calculation\n",
    "ω, j = dos(dos_presets)"
   ]
  },
  {
   "cell_type": "code",
   "execution_count": null,
   "metadata": {},
   "outputs": [],
   "source": [
    "fig = Figure(); ax = Axis(fig[1,1], xlabel = \"ω (eV)\", ylabel = \"dos (a.u.)\")\n",
    "lines!(ax, ω, j)"
   ]
  },
  {
   "cell_type": "markdown",
   "metadata": {},
   "source": [
    "<img src=\"MLG_dos.jpg\" alt=\"Alt text\" width=\"400\"/>"
   ]
  },
  {
   "cell_type": "markdown",
   "metadata": {},
   "source": [
    "Note that the broadening, $\\eta\\neq0$ introduces a finite spectral weight at $\\omega = 0$ and tails at the band edges"
   ]
  },
  {
   "cell_type": "markdown",
   "metadata": {},
   "source": [
    "### JDOS"
   ]
  },
  {
   "cell_type": "code",
   "execution_count": null,
   "metadata": {},
   "outputs": [],
   "source": [
    "# Calculation, at two Fermi levels\n",
    "h0(q) = Presets.MLG_hamiltonian(μ, q)\n",
    "ω, j0 = jdos(JDOS_presets(h0, cp))\n",
    "\n",
    "h1(q) = Presets.MLG_hamiltonian(μ + 1, q)\n",
    "ω, j0 = jdos(JDOS_presets(h1, cp))"
   ]
  },
  {
   "cell_type": "code",
   "execution_count": null,
   "metadata": {},
   "outputs": [],
   "source": [
    "fig = Figure(); ax = Axis(fig[1,1], xlabel = \"ω (eV)\", ylabel = \"jdos (a.u.)\")\n",
    "lines!(ax, ω, j0, label = \"μ = 0\")\n",
    "lines!(ax, ω, j1, label = \"μ = 1 eV\")\n",
    "axislegend()\n",
    "fig"
   ]
  },
  {
   "cell_type": "markdown",
   "metadata": {},
   "source": [
    "<img src=\"MLG_jdos.jpg\" alt=\"Alt text\" width=\"400\"/>"
   ]
  },
  {
   "cell_type": "markdown",
   "metadata": {},
   "source": [
    "## Linear optical conductivity"
   ]
  },
  {
   "cell_type": "markdown",
   "metadata": {},
   "source": [
    "### Example 1: $\\sigma_{xx}$ of spinless MLG"
   ]
  },
  {
   "cell_type": "code",
   "execution_count": null,
   "metadata": {},
   "outputs": [],
   "source": [
    "# Presets\n",
    "n = 1\n",
    "ϵ2 = 2π/(3√3)/n\n",
    "ncp = Computation_presets(cp, \n",
    "    xbounds = Presets.K1[1] .+ [-ϵ2, ϵ2],\n",
    "    ybounds = 2*abs(Presets.K1[1]) .* [-1, 1],\n",
    "    ωlist = collect(0:.1:10))\n",
    "\n",
    "μ = 0\n",
    "h(q) = Presets.MLG_hamiltonian(μ, q)\n",
    "nabla_h(q) = Presets.MLG_nabla(q) \n",
    "# vector containing the partial derivatives of the Hamiltonian along the periodic directions\n",
    "sigma_ij_presets = σij_presets(dirJ = :x, dirE = :x, h, nabla_h, ncp)"
   ]
  },
  {
   "cell_type": "code",
   "execution_count": null,
   "metadata": {},
   "outputs": [],
   "source": [
    "ω, j = linear_optical_conductivity(sigma_ij_presets)"
   ]
  },
  {
   "cell_type": "code",
   "execution_count": null,
   "metadata": {},
   "outputs": [],
   "source": [
    "fig = Figure(); ax = Axis(fig[1,1], xlabel = \"ω (eV)\", ylabel = \"σ_xx [e^2/16ħ]\")\n",
    "lines!(ax, ω, 16 .* j) \n",
    "fig"
   ]
  },
  {
   "cell_type": "markdown",
   "metadata": {},
   "source": [
    "\n",
    "<img src=\"Optical_conductivity_large_frequency_range.jpg\" alt=\"Alt text\" width=\"400\"/>"
   ]
  },
  {
   "cell_type": "markdown",
   "metadata": {},
   "source": [
    "### Example 2: $\\sigma_{xx}$ of a single Dirac cone"
   ]
  },
  {
   "cell_type": "markdown",
   "metadata": {},
   "source": [
    "Here we can use the flexibility of `Computation_presets` to pass different k-integration\n",
    "boundaries. Our MLG model covers the two valleys, but we can select `xbounds` and `ybounds` \n",
    "in the following manner to describe the low-energy (<1 eV) response of the K cone alone."
   ]
  },
  {
   "cell_type": "code",
   "execution_count": null,
   "metadata": {},
   "outputs": [],
   "source": [
    "# Calculation of the quantized conductivity of a single Dirac cone\n",
    "n = 5\n",
    "ϵ2 = 2π/(3√3)/n\n",
    "\n",
    "cp_K_valley = Computation_presets(cp,         # updating computation presets\n",
    "                xbounds = Presets.K1[1] .+ [-ϵ2, ϵ2], \n",
    "                ybounds = Presets.K1[2] .+ [-ϵ2, ϵ2],\n",
    "                ωlist = collect(0:.025:0.5),\n",
    "                broadening = 0.01)\n",
    "\n",
    "# update σij_presets with cp_K_valley:\n",
    "new_sigma_ij_presets = σij_presets(dirJ, dirE, h, nabla_h, cp_K_valley)"
   ]
  },
  {
   "cell_type": "code",
   "execution_count": null,
   "metadata": {},
   "outputs": [],
   "source": [
    "# Calculation\n",
    "ω, j_single_DC = linear_optical_conductivity(new_sigma_ij_presets)\n",
    "# same calculation with smaller broadening:\n",
    "ω, j_single_DC_2 = linear_optical_conductivity(σij_presets(new_sigma_ij_presets, broadening = 0.005))"
   ]
  },
  {
   "cell_type": "code",
   "execution_count": null,
   "metadata": {},
   "outputs": [],
   "source": [
    "# Plot\n",
    "fig = Figure(); ax = Axis(fig[1,1], xlabel = \"ω (eV)\", ylabel = \"σ_xx [e^2/16ħ]\")\n",
    "lines!(ax, ω, 16 .* j_single_DC, label = \"η = 5 meV\") \n",
    "lines!(ax, ω, 16 .* j_single_DC_2, label = \"η = 10 meV\")\n",
    "axislegend(position = :rb)\n",
    "# the 16 prefactor is to express the conductivity\n",
    "# in as e^2/(16ħ): σxx value of a single Dirac cone"
   ]
  },
  {
   "cell_type": "markdown",
   "metadata": {},
   "source": [
    "<img src=\"quantized_conductivity_singleCone.jpg\" alt=\"Alt text\" width=\"400\"/>"
   ]
  },
  {
   "cell_type": "markdown",
   "metadata": {},
   "source": [
    "$\\sigma_{xx} = \\frac{e^2}{16\\hbar}$ as expected for a interband processes of a single Dirac cone"
   ]
  }
 ],
 "metadata": {
  "kernelspec": {
   "display_name": "Julia 1.9.3",
   "language": "julia",
   "name": "julia-1.9"
  },
  "language_info": {
   "file_extension": ".jl",
   "mimetype": "application/julia",
   "name": "julia",
   "version": "1.9.3"
  },
  "orig_nbformat": 4
 },
 "nbformat": 4,
 "nbformat_minor": 2
}
