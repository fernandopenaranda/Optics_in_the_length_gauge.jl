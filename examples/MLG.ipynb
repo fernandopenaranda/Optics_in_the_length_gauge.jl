{
 "cells": [
  {
   "cell_type": "code",
   "execution_count": null,
   "metadata": {},
   "outputs": [],
   "source": [
    "using Optics_in_the_length_gauge"
   ]
  },
  {
   "cell_type": "code",
   "execution_count": null,
   "metadata": {},
   "outputs": [],
   "source": [
    "cp = Computation_presets(        # comp presets\n",
    "    xbounds = [0, 2π/√3],        # adimensional, \n",
    "    ybounds = [-2π, 2π],         # adimensional, \n",
    "    ωlist = collect(-10:0.1:10), # in eV, \n",
    "    broadening = 0.025,          # in eV\n",
    "    evals = 1e6                  # number of iterations\n",
    "    )"
   ]
  },
  {
   "cell_type": "markdown",
   "metadata": {},
   "source": [
    "Quick note: \n",
    "\n",
    "Structs in Optics_in_the_lenght_gauge uses Parameters,\n",
    "so they can be dynamically created using the following syntax.\n",
    "cp2 = Computation_presets(cp, evals = 1e5), which keeps the rest\n",
    "of fields as in cp. "
   ]
  },
  {
   "cell_type": "markdown",
   "metadata": {},
   "source": [
    "### Bands MLG"
   ]
  },
  {
   "cell_type": "markdown",
   "metadata": {},
   "source": [
    "<img src=\"MLG_bands.jpg\" alt=\"Alt text\" width=\"400\"/>"
   ]
  },
  {
   "cell_type": "markdown",
   "metadata": {},
   "source": [
    "### DOS"
   ]
  },
  {
   "cell_type": "code",
   "execution_count": null,
   "metadata": {},
   "outputs": [],
   "source": [
    "\n",
    "μ = 0\n",
    "h(q) = Presets.MLG_hamiltonian(μ, q) # system specific\n",
    "\n",
    "# DOS_presets\n",
    "dos_presets = DOS_presets(\n",
    "    h = h, \n",
    "    computation = cp            #\n",
    ")"
   ]
  },
  {
   "cell_type": "code",
   "execution_count": null,
   "metadata": {},
   "outputs": [],
   "source": [
    "# Calculation\n",
    "ω, j = dos(dos_presets)"
   ]
  },
  {
   "cell_type": "code",
   "execution_count": null,
   "metadata": {},
   "outputs": [],
   "source": [
    "fig = Figure(); ax = Axis(fig[1,1], xlabel = \"ω (eV)\", ylabel = \"dos (a.u.)\")\n",
    "lines!(ax, ω, j)"
   ]
  },
  {
   "cell_type": "markdown",
   "metadata": {},
   "source": [
    "<img src=\"MLG_dos.jpg\" alt=\"Alt text\" width=\"400\"/>"
   ]
  },
  {
   "cell_type": "markdown",
   "metadata": {},
   "source": [
    "Note that the broadening, $\\eta\\neq0$ introduces a finite spectral weight at $\\omega = 0$ and tails at the band edges"
   ]
  },
  {
   "cell_type": "markdown",
   "metadata": {},
   "source": [
    "### JDOS"
   ]
  },
  {
   "cell_type": "code",
   "execution_count": null,
   "metadata": {},
   "outputs": [],
   "source": [
    "# Calculation, at two Fermi levels\n",
    "h0(q) = Presets.MLG_hamiltonian(μ, q)\n",
    "ω, j0 = jdos(JDOS_presets(h0, cp))\n",
    "\n",
    "h1(q) = Presets.MLG_hamiltonian(μ + 1, q)\n",
    "ω, j0 = jdos(JDOS_presets(h1, cp))"
   ]
  },
  {
   "cell_type": "code",
   "execution_count": null,
   "metadata": {},
   "outputs": [],
   "source": [
    "fig = Figure(); ax = Axis(fig[1,1], xlabel = \"ω (eV)\", ylabel = \"jdos (a.u.)\")\n",
    "lines!(ax, ω, j0, label = \"μ = 0\")\n",
    "lines!(ax, ω, j1, label = \"μ = 1 eV\")\n",
    "axislegend()\n",
    "fig"
   ]
  },
  {
   "cell_type": "markdown",
   "metadata": {},
   "source": [
    "<img src=\"MLG_jdos.jpg\" alt=\"Alt text\" width=\"400\"/>"
   ]
  },
  {
   "cell_type": "markdown",
   "metadata": {},
   "source": [
    "## Linear optical conductivity"
   ]
  },
  {
   "cell_type": "code",
   "execution_count": null,
   "metadata": {},
   "outputs": [],
   "source": [
    "# Presets\n",
    "dirJ = :x\n",
    "dirE = :x\n",
    "h(q) = Presets.MLG_hamiltonian(μ, q)\n",
    "nabla_h(q) = Presets.MLG_nabla(q) # vector containing the partial derivatives of the Hamiltonian along the periodic directions\n",
    "sigma_ij_presets = σij_presets(dirJ, dirE, h, nabla_h, cp)"
   ]
  },
  {
   "cell_type": "code",
   "execution_count": null,
   "metadata": {},
   "outputs": [],
   "source": [
    "\n",
    "linear_optical_conductivity(sigma_ij_presets)"
   ]
  },
  {
   "cell_type": "code",
   "execution_count": null,
   "metadata": {},
   "outputs": [],
   "source": [
    "# Calculation of the quantized conductivity of a single Dirac cone\n",
    "# In this case we specify manually the boundaries of the integration area\n",
    "# to describe the low energy <1eV physics around one K point\n",
    "\n",
    "n = 5\n",
    "ϵ2 = 2π/(3√3)/n\n",
    "xboundsDP = K1[1] .+ [-ϵ2, ϵ2]\n",
    "yboundsDP = K1[2] .+ [-ϵ2, ϵ2]\n",
    "broadening = 0.01\n",
    "evals = 500000\n",
    "ωlist = collect(0:.025:0.5)\n",
    "\n",
    "ω, j_single_DP = linear_optical_conductivity(dirJ, dirE, h, dh,\n",
    "    xboundsDP, yboundsDP, ωlist,\n",
    "    η = broadening, evals = evals)\n",
    "\n",
    "ω, jDP2 = linear_optical_conductivity(dirJ, dirE, h, dh,\n",
    "    xboundsDP, yboundsDP, ωlist,\n",
    "    η = broadening/2, evals = evals)"
   ]
  },
  {
   "cell_type": "code",
   "execution_count": null,
   "metadata": {},
   "outputs": [],
   "source": [
    "# Plot\n",
    "# the 16 prefactor is to express the conductivity\n",
    "# in as e^2/(16ħ): σxx value of a single Dirac cone\n",
    "\n",
    "fig = Figure(); ax = Axis(fig[1,1], xlabel = \"ω (eV)\", ylabel = \"σ_xx [e^2/16ħ]\")\n",
    "lines!(ax, ω, 16 .* jDP2, label = \"η = 5 meV\") \n",
    "lines!(ax, ω, 16 .* jDP, label = \"η = 10 meV\")\n",
    "axislegend(position = :rb)"
   ]
  },
  {
   "cell_type": "markdown",
   "metadata": {},
   "source": [
    "<img src=\"quantized_conductivity_singleCone.jpg\" alt=\"Alt text\" width=\"400\"/>"
   ]
  },
  {
   "cell_type": "markdown",
   "metadata": {},
   "source": [
    "### Tests"
   ]
  },
  {
   "cell_type": "code",
   "execution_count": null,
   "metadata": {},
   "outputs": [],
   "source": [
    "# Testing the bounds\n",
    "\n",
    "# Full BZ\n",
    "xboundsFBZ =  2π/√3 .* [0, 1]\n",
    "ybounds =  [-2π, 2π]\n",
    "\n",
    "\n",
    "# doubled  BZ\n",
    "xboundsdoubled =  2π/√3 .* [0, 2]\n",
    "ybounds =  [-2π, 2π]\n",
    "\n",
    "# doubled  shift\n",
    "ϵ = 0.1\n",
    "xboundsdoubledshift =  2π/√3 .* ([0, 2] .+ ϵ)\n",
    "ybounds =  [-2π, 2π]\n",
    "\n",
    "# BZ displaced in xarr\n",
    "xboundsdisFBZ =  2π/√3 .* [0.5, 1.5]\n",
    "ybounds =  [-2π, 2π]\n",
    "\n",
    "# Expanded BZ\n",
    "xboundsEXP =  4 * 2π/√3 .* [0, 1]\n",
    "yboundsEXP =  4 .* [-2π, 2π]\n",
    "\n",
    "# Focus around a DC\n",
    "n = 1\n",
    "ϵ2 = 2π/(3√3)/n\n",
    "xboundsDP = K1[1] .+ [-ϵ2, ϵ2]\n",
    "yboundsDP = K2[2] .+ [-ϵ2, ϵ2]\n",
    "\n",
    "\n",
    "ω, jDP = dos(h, xboundsDP, yboundsDP, collect(-10:.1:10),\n",
    "     η = 0.025, evals = 500000)\n",
    "\n",
    "ω, jFBZ = dos(h, xboundsFBZ, ybounds, collect(-10:.1:10),\n",
    "     η = 0.025, evals = 500000)\n",
    "\n",
    "ω, jdisFBZ = dos(h, xboundsdisFBZ, ybounds, collect(-10:.1:10),\n",
    "     η = 0.025, evals = 500000)\n",
    "\n",
    "ω, jdoubled = dos(h, xboundsdoubled, ybounds, collect(-10:.1:10),\n",
    "     η = 0.025, evals = 500000)\n",
    "\n",
    "ω, jdoubledshift = dos(h, xboundsdoubledshift, ybounds, collect(-10:.1:10),\n",
    "     η = 0.025, evals = 500000)\n",
    "\n",
    "ω, jdisEXP = dos(h, xboundsEXP, yboundsEXP, collect(-10:.1:10),\n",
    "     η = 0.025, evals = 500000)\n"
   ]
  },
  {
   "cell_type": "markdown",
   "metadata": {},
   "source": [
    "![Alt text](comparison.png)"
   ]
  },
  {
   "cell_type": "markdown",
   "metadata": {},
   "source": [
    "![Alt text](Diracpointsurroundings.png)"
   ]
  },
  {
   "cell_type": "code",
   "execution_count": null,
   "metadata": {},
   "outputs": [],
   "source": [
    "# Tests linear optical conductivity as a function of the integration antisymmetrized_realsum\n",
    "# Focus around a DC\n",
    "ϵ2 = 2π/(3√3)/n\n",
    "xboundsDP = K1[1] .+ [-ϵ2, ϵ2]\n",
    "yboundsDP = K2[2] .+ [-ϵ2, ϵ2]\n",
    "\n",
    "ω, jDP = linear_optical_conductivity(dirJ, dirE, h, dh,\n",
    "    xboundsDP, yboundsDP, collect(0:.1:1),\n",
    "    η = 0.025, evals = 500000)"
   ]
  },
  {
   "cell_type": "markdown",
   "metadata": {},
   "source": [
    "![Alt text](comparison2.png)"
   ]
  },
  {
   "cell_type": "markdown",
   "metadata": {},
   "source": []
  },
  {
   "cell_type": "markdown",
   "metadata": {},
   "source": [
    "# New API"
   ]
  },
  {
   "cell_type": "code",
   "execution_count": null,
   "metadata": {},
   "outputs": [],
   "source": [
    "# Comp presets\n",
    "cp = Computation_presets(\n",
    "    xbounds = [0, 2π/√3],        # adimensional, \n",
    "    ybounds = [-2π, 2π],         # adimensional, \n",
    "    ωlist = collect(-10:0.1:10), # in eV, \n",
    "    broadening = 0.025,          # in eV\n",
    "    evals = 1e6                  # number of iterations\n",
    "    )"
   ]
  },
  {
   "cell_type": "markdown",
   "metadata": {},
   "source": [
    "### DOS"
   ]
  },
  {
   "cell_type": "code",
   "execution_count": null,
   "metadata": {},
   "outputs": [],
   "source": [
    "# DOS_presets\n",
    "μ = 0\n",
    "h(q) = MLG_hamiltonian(μ, q)\n",
    "dos_presets = DOS_presets(h, cp)"
   ]
  },
  {
   "cell_type": "code",
   "execution_count": null,
   "metadata": {},
   "outputs": [],
   "source": [
    "# Calculation\n",
    "ω, j = dos(dos_presets)"
   ]
  }
 ],
 "metadata": {
  "kernelspec": {
   "display_name": "Julia 1.9.3",
   "language": "julia",
   "name": "julia-1.9"
  },
  "language_info": {
   "file_extension": ".jl",
   "mimetype": "application/julia",
   "name": "julia",
   "version": "1.9.3"
  },
  "orig_nbformat": 4
 },
 "nbformat": 4,
 "nbformat_minor": 2
}
