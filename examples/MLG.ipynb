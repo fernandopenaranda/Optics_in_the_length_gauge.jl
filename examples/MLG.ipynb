{
 "cells": [
  {
   "cell_type": "code",
   "execution_count": null,
   "metadata": {},
   "outputs": [],
   "source": [
    "# run with a julia kernel\n",
    "include(\"Optics_in_the_length_gauge.jl\")"
   ]
  },
  {
   "cell_type": "code",
   "execution_count": null,
   "metadata": {},
   "outputs": [],
   "source": [
    "xbounds =  [0,pi]\n",
    "ybounds =  [0,pi]\n",
    "ωlist = collect(0:0.1:10)\n",
    "broadening = 0.1 # in eV\n",
    "evals = 10000\n",
    "jdos(ham, xbounds, ybounds, ωlist; η = 0.1, evals = 10000)\n",
    "\n",
    "\n",
    "fig = Figure(); ax = Axis(fig, xlabel = \"ω (eV)\", ylabel = \"jdos (a.u.)\")"
   ]
  }
 ],
 "metadata": {
  "kernelspec": {
   "display_name": "Julia 1.9.3",
   "language": "julia",
   "name": "julia-1.9"
  },
  "language_info": {
   "file_extension": ".jl",
   "mimetype": "application/julia",
   "name": "julia",
   "version": "1.9.3"
  },
  "orig_nbformat": 4
 },
 "nbformat": 4,
 "nbformat_minor": 2
}
